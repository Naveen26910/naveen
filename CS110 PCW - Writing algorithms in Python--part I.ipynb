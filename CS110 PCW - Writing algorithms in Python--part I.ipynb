{
 "cells": [
  {
   "cell_type": "markdown",
   "metadata": {},
   "source": [
    "Before you turn this problem in, make sure everything runs as expected. First, **restart the kernel** (in the menubar, select Kernel$\\rightarrow$Restart) and then **run all cells** (in the menubar, select Cell$\\rightarrow$Run All).\n",
    "\n",
    "Note that this Pre-class Work is estimated to take **26 minutes**.\n",
    "\n",
    "Make sure you fill in any place that says `YOUR CODE HERE` or \"YOUR ANSWER HERE\", as well as your name and collaborators below:"
   ]
  },
  {
   "cell_type": "code",
   "execution_count": null,
   "metadata": {},
   "outputs": [],
   "source": [
    "NAME = \"Naveen\"\n",
    "COLLABORATORS = \"none\""
   ]
  },
  {
   "cell_type": "markdown",
   "metadata": {},
   "source": [
    "---"
   ]
  },
  {
   "cell_type": "markdown",
   "metadata": {
    "deletable": false,
    "editable": false,
    "nbgrader": {
     "checksum": "df135f0c4ea26cc7c0b25cb64a20e634",
     "grade": false,
     "grade_id": "cell-b46066345313bea6",
     "locked": true,
     "schema_version": 1,
     "solution": false
    }
   },
   "source": [
    "# CS110 Pre-class Work - Writing algorithms in Python--part I\n",
    "\n",
    "## Question 1 [time estimate: 10 minutes]\n",
    "\n",
    "Palindromes are a sequence of characters (words, phrases, numbers) that can be read the same both from left to right and from right to left. Examples of palindromes include the word 'madam' and the number 12321.\n",
    "\n",
    "1. Explain how you would use an iterative approach, step by step, to check whether a word is a palindrome.\n",
    "2. Explain also how you would approach this problem using a recursive solution.\n",
    "\n",
    "You can use palindromic and non-palindromic words to assist your explanation. "
   ]
  },
  {
   "cell_type": "markdown",
   "metadata": {
    "deletable": false,
    "nbgrader": {
     "checksum": "104f443d240e2139d778711f6bc0a766",
     "grade": true,
     "grade_id": "cell-3bac59ff24b11a27",
     "locked": false,
     "points": 0,
     "schema_version": 1,
     "solution": true
    }
   },
   "source": [
    "1. An iterative approach uses process of looping or repeating specific functions of a program. This process will use a condition controlled loop in which steps will be repeated unless a specific condition is met which is that whether the word is a palindrome or not.\n",
    "a. Palindrome word will be defined.\n",
    "b.It will be split mid length so there is first half and second half of the word. \n",
    "c. A condition controlled loop will be used to check if letters in the first half of the word are similar to letters in the second half of the word (reverse order for second half of the word).\n",
    "d. If conditions are met, then defined word is a palindrome. \n",
    "2. A recursive approach repeats the same function in successively smaller inputs until the original problem is solved (this will be stopping condition for a recursive algorithm).\n",
    "a. first condition will be that is the word less than two characters then statement will be returned as true since it is a palindrome\n",
    "b.if word has more than two characters, then first and last characters will be removed if they are same.\n",
    "c. the new word will be returned and the process will be repeated until the first and last character are not the same (second condition of the algorithm).\n"
   ]
  },
  {
   "cell_type": "markdown",
   "metadata": {
    "deletable": false,
    "editable": false,
    "nbgrader": {
     "checksum": "7872c2d656a6cb3aaeff2b4fa41eb204",
     "grade": false,
     "grade_id": "cell-0ca65d04b209f37f",
     "locked": true,
     "schema_version": 1,
     "solution": false
    }
   },
   "source": [
    "## Question 2 [time estimate: 3 minutes]\n",
    "\n",
    "How would you prevent your recursive solution from running forever? In other words, what is the base case of your recursive approach?"
   ]
  },
  {
   "cell_type": "markdown",
   "metadata": {
    "deletable": false,
    "nbgrader": {
     "checksum": "4ff5af35daed9a5442ba229263bdde33",
     "grade": true,
     "grade_id": "cell-442998d5fdd8b561",
     "locked": false,
     "points": 0,
     "schema_version": 1,
     "solution": true
    }
   },
   "source": [
    "The base case is when the function doesn't call itself so it doesn't go into an infinite loop. As mentioned in the first question, this will be the two conditions in which if the first and last letter are not the same it will return the statement as false and if the statement is true it will be only repeated until less than two characters are remaining. "
   ]
  },
  {
   "cell_type": "markdown",
   "metadata": {
    "deletable": false,
    "editable": false,
    "nbgrader": {
     "checksum": "9d7a3b260b0fef93382fb52aa393f963",
     "grade": false,
     "grade_id": "cell-0ac1c20b43acb363",
     "locked": true,
     "schema_version": 1,
     "solution": false
    }
   },
   "source": [
    "## Question 3 [time estimate: 3 minutes]\n",
    "\n",
    "Is there a base case in an iterative approach? Why or why not?"
   ]
  },
  {
   "cell_type": "markdown",
   "metadata": {
    "deletable": false,
    "nbgrader": {
     "checksum": "eb02c9951e19ee43d128fa93dd53eaad",
     "grade": true,
     "grade_id": "cell-5ecb51404140cb2f",
     "locked": false,
     "points": 0,
     "schema_version": 1,
     "solution": true
    }
   },
   "source": [
    "Iterative approach does not have a base case since it already has a termination test which is its use of repetition structure based on conditions of the loop met. "
   ]
  },
  {
   "cell_type": "markdown",
   "metadata": {
    "deletable": false,
    "editable": false,
    "nbgrader": {
     "checksum": "cb0b8b9c4b153530d47b437baa24098d",
     "grade": false,
     "grade_id": "cell-b22dce6b32afe1a9",
     "locked": true,
     "schema_version": 1,
     "solution": false
    }
   },
   "source": [
    "## Question 4 [time estimate: 10 minutes]\n",
    "\n",
    "Given the algorithmic strategies you described in question 1, you will now implement these in Python code. Write a function for the iterative approach (using either a `for` or a `while` loop) and another function for the recursive approach. Both functions should return `True` if the provided word is a palindrome, and `False` if the word is not. \n",
    "\n",
    "Validate the correctness of your code by providing examples of words that can be used as test cases. Be prepared to paste your functions and Palindrome words you searched into a Minerva workbook during class."
   ]
  },
  {
   "cell_type": "code",
   "execution_count": 7,
   "metadata": {
    "deletable": false,
    "nbgrader": {
     "checksum": "16ff8874250907a794fdd3fa6c13bbec",
     "grade": false,
     "grade_id": "cell-b709733c96d8b615",
     "locked": false,
     "schema_version": 1,
     "solution": true
    }
   },
   "outputs": [
    {
     "ename": "IndentationError",
     "evalue": "unindent does not match any outer indentation level (<tokenize>, line 17)",
     "output_type": "error",
     "traceback": [
      "\u001b[0;36m  File \u001b[0;32m\"<tokenize>\"\u001b[0;36m, line \u001b[0;32m17\u001b[0m\n\u001b[0;31m    def is_palindrome_iterative(word): #used help from stack overflow and some other websites as well to understand the code\u001b[0m\n\u001b[0m    ^\u001b[0m\n\u001b[0;31mIndentationError\u001b[0m\u001b[0;31m:\u001b[0m unindent does not match any outer indentation level\n"
     ]
    }
   ],
   "source": [
    "def is_palindrome_iterative(word):\n",
    "    \"\"\n",
    "    This function identifies whether a word is a palindrome iteratively.\n",
    "\n",
    "    Parameters\n",
    "     ----------\n",
    "    word : str\n",
    "        Word we wish to check\n",
    "    \n",
    "    Returns\n",
    "    -------\n",
    "    bool\n",
    "        True if input is a palindrome, False otherwise\n",
    "        \n",
    "\n",
    "   \n",
    " def is_palindrome_iterative(word): #used help from stack overflow and some other websites as well to understand the code\n",
    " midPoint = len(word)//2 #the word is divided into two halves from midpoint \n",
    "  palindrome = True #statement will be returned true if word is more than or equal to two characters \n",
    "  for i in range(0,midPoint):\n",
    "    left = word[i]\n",
    "    right = word[len(word)-i-1] #second half of the word will be reversed to see if it matches with the first half\n",
    "    if left!=right:\n",
    "      palindrome=False\n",
    "      break\n",
    "  return palindrome    \n",
    "\n",
    "word = input(\"write word that needs to be checked for palindrome:\") #input function used to make it more interactive for user\n",
    "\n",
    "while len(word)<2:\n",
    "  word = input(\"try again with word that has more than two letters\")\n",
    "\n",
    "if isPalindrome(word):\n",
    "  print(\"statement is true\")\n",
    "else:\n",
    "  print(\"statement is false\")\n",
    "  \n",
    "    "
   ]
  },
  {
   "cell_type": "code",
   "execution_count": null,
   "metadata": {
    "deletable": false,
    "nbgrader": {
     "checksum": "16ff8874250907a794fdd3fa6c13bbec",
     "grade": false,
     "grade_id": "cell-b709733c96d8b615",
     "locked": false,
     "schema_version": 1,
     "solution": true
    }
   },
   "outputs": [],
   "source": [
    "def is_palindrome_recursive(word):\n",
    "    \"\"\"\n",
    "    This function identifies whether a word is a palindrome recursively.\n",
    "\n",
    "    Parameters\n",
    "    ----------\n",
    "    word : str\n",
    "        Word we wish to check\n",
    "    \n",
    "    Returns\n",
    "    -------\n",
    "    boolean\n",
    "        True if input is a palindrome, False otherwise\n",
    "        \n",
    "    \"\"\"\n",
    "    # YOUR CODE HERE\n",
    "    raise NotImplementedError()"
   ]
  },
  {
   "cell_type": "code",
   "execution_count": null,
   "metadata": {},
   "outputs": [],
   "source": []
  }
 ],
 "metadata": {
  "celltoolbar": "Edit Metadata",
  "kernelspec": {
   "display_name": "Python 3",
   "language": "python",
   "name": "python3"
  },
  "language_info": {
   "codemirror_mode": {
    "name": "ipython",
    "version": 3
   },
   "file_extension": ".py",
   "mimetype": "text/x-python",
   "name": "python",
   "nbconvert_exporter": "python",
   "pygments_lexer": "ipython3",
   "version": "3.7.4"
  }
 },
 "nbformat": 4,
 "nbformat_minor": 2
}
